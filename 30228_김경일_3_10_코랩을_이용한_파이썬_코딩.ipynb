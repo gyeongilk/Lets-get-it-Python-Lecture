{
  "nbformat": 4,
  "nbformat_minor": 0,
  "metadata": {
    "colab": {
      "provenance": [],
      "authorship_tag": "ABX9TyPVkOS90KlyQQfX0Vwx3ZmE",
      "include_colab_link": true
    },
    "kernelspec": {
      "name": "python3",
      "display_name": "Python 3"
    },
    "language_info": {
      "name": "python"
    }
  },
  "cells": [
    {
      "cell_type": "markdown",
      "metadata": {
        "id": "view-in-github",
        "colab_type": "text"
      },
      "source": [
        "<a href=\"https://colab.research.google.com/github/gyeongilk/Lets-get-it-Python-Lecture/blob/main/30228_%EA%B9%80%EA%B2%BD%EC%9D%BC_3_10_%EC%BD%94%EB%9E%A9%EC%9D%84_%EC%9D%B4%EC%9A%A9%ED%95%9C_%ED%8C%8C%EC%9D%B4%EC%8D%AC_%EC%BD%94%EB%94%A9.ipynb\" target=\"_parent\"><img src=\"https://colab.research.google.com/assets/colab-badge.svg\" alt=\"Open In Colab\"/></a>"
      ]
    },
    {
      "cell_type": "code",
      "execution_count": null,
      "metadata": {
        "colab": {
          "base_uri": "https://localhost:8080/"
        },
        "id": "P_u_-A3ba93H",
        "outputId": "5ab85943-7e93-4070-b242-f42365a1ac59"
      },
      "outputs": [
        {
          "output_type": "stream",
          "name": "stdout",
          "text": [
            "경일\n",
            "경일 만나서 반가워!\n"
          ]
        }
      ],
      "source": [
        "name = input()\n",
        "print(name, '만나서 반가워!')\n"
      ]
    },
    {
      "cell_type": "code",
      "source": [],
      "metadata": {
        "id": "en8ZTO0jchVf"
      },
      "execution_count": null,
      "outputs": []
    }
  ]
}