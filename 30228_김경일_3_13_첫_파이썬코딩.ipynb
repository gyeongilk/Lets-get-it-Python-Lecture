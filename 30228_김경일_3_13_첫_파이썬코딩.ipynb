{
  "nbformat": 4,
  "nbformat_minor": 0,
  "metadata": {
    "colab": {
      "provenance": [],
      "authorship_tag": "ABX9TyPzUFt3L7Qyo0zLi1CXRHJ0",
      "include_colab_link": true
    },
    "kernelspec": {
      "name": "python3",
      "display_name": "Python 3"
    },
    "language_info": {
      "name": "python"
    }
  },
  "cells": [
    {
      "cell_type": "markdown",
      "metadata": {
        "id": "view-in-github",
        "colab_type": "text"
      },
      "source": [
        "<a href=\"https://colab.research.google.com/github/gyeongilk/Lets-get-it-Python-Lecture/blob/main/30228_%EA%B9%80%EA%B2%BD%EC%9D%BC_3_13_%EC%B2%AB_%ED%8C%8C%EC%9D%B4%EC%8D%AC%EC%BD%94%EB%94%A9.ipynb\" target=\"_parent\"><img src=\"https://colab.research.google.com/assets/colab-badge.svg\" alt=\"Open In Colab\"/></a>"
      ]
    },
    {
      "cell_type": "code",
      "execution_count": null,
      "metadata": {
        "colab": {
          "base_uri": "https://localhost:8080/"
        },
        "id": "gErPTNsNRbdI",
        "outputId": "43e7a167-7718-44b0-80bb-ead51cf190cd"
      },
      "outputs": [
        {
          "output_type": "stream",
          "name": "stdout",
          "text": [
            "너의 이름은 뭐니?경일\n",
            "경일 만나서 반가워!\n"
          ]
        }
      ],
      "source": [
        "name = input('너의 이름은 뭐니?')\n",
        "print(name, '만나서 반가워!')\n"
      ]
    },
    {
      "cell_type": "code",
      "source": [],
      "metadata": {
        "id": "Je6zh7rVSyMt"
      },
      "execution_count": null,
      "outputs": []
    }
  ]
}